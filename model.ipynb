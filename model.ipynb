{
 "cells": [
  {
   "cell_type": "markdown",
   "metadata": {},
   "source": [
    "# Face Recognizing Model"
   ]
  },
  {
   "cell_type": "code",
   "execution_count": null,
   "metadata": {},
   "outputs": [],
   "source": [
    "#Steps:\n",
    "#1 Generate dataset\n",
    "#2 Training the classifier\n",
    "#3 Finally, the face detection and identification itself from our training data"
   ]
  },
  {
   "cell_type": "markdown",
   "metadata": {},
   "source": [
    "# 1. Generate the dataset"
   ]
  },
  {
   "cell_type": "code",
   "execution_count": 2,
   "metadata": {},
   "outputs": [],
   "source": [
    "import cv2"
   ]
  },
  {
   "cell_type": "code",
   "execution_count": 3,
   "metadata": {},
   "outputs": [
    {
     "name": "stderr",
     "output_type": "stream",
     "text": [
      "<>:9: SyntaxWarning: \"is\" with a literal. Did you mean \"==\"?\n",
      "<>:9: SyntaxWarning: \"is\" with a literal. Did you mean \"==\"?\n",
      "C:\\Users\\ASUS\\AppData\\Local\\Temp\\ipykernel_46404\\323001528.py:9: SyntaxWarning: \"is\" with a literal. Did you mean \"==\"?\n",
      "  if face is ():\n"
     ]
    },
    {
     "name": "stdout",
     "output_type": "stream",
     "text": [
      "Collecting all samples process completed...\n"
     ]
    }
   ],
   "source": [
    "def gen_dset():\n",
    "    face_classifier = cv2.CascadeClassifier(\"haarcascade_frontalface_default.xml\")\n",
    "    def face_cropping_tool(img):\n",
    "        grey = cv2.cvtColor(img,cv2.COLOR_BGR2GRAY)\n",
    "        face = face_classifier.detectMultiScale(grey,1.3,5)\n",
    "        # Scaling factor = 1.3\n",
    "        # Minimum neighbor = 5\n",
    "\n",
    "        if face is ():\n",
    "            return None\n",
    "        for(x,y,w,h) in face:\n",
    "            crop_face = img[y:y+h,x:x+w]\n",
    "        return crop_face\n",
    "    cap = cv2.VideoCapture(0)\n",
    "    id = 1\n",
    "    img_id = 0\n",
    "\n",
    "    while True:\n",
    "        ret,frame = cap.read()\n",
    "        if face_cropping_tool(frame) is not None:\n",
    "            img_id+=1\n",
    "            face = cv2.resize(face_cropping_tool(frame),(200,200))\n",
    "            face = cv2.cvtColor(face,cv2.COLOR_BGR2GRAY)\n",
    "            file_path = \"Training Data/User.\"+str(id)+\".\"+str(img_id)+\".jpg\"\n",
    "            cv2.imwrite(file_path,face)\n",
    "            cv2.putText(face,str(img_id),(50,50),cv2.FONT_HERSHEY_COMPLEX,1,(0,255,0),2)\n",
    "            # (50,50) is the origin point from where text is being written from\n",
    "            # font scale = 1\n",
    "            # thickness = 2\n",
    "            # (0,255,0) - color = green\n",
    "            cv2.imshow(\"Cropped face\",face)\n",
    "            if cv2.waitKey(1)==13 or int(img_id)==200:\n",
    "                break\n",
    "    cap.release()\n",
    "    cv2.destroyAllWindows()\n",
    "    print(\"Collecting all samples process completed...\")\n",
    "gen_dset()    \n"
   ]
  },
  {
   "cell_type": "markdown",
   "metadata": {},
   "source": [
    "# Training the classifier"
   ]
  },
  {
   "cell_type": "code",
   "execution_count": 6,
   "metadata": {},
   "outputs": [],
   "source": [
    "import numpy as np\n",
    "from PIL import Image\n",
    "import os\n",
    "import cv2\n"
   ]
  },
  {
   "cell_type": "code",
   "execution_count": 7,
   "metadata": {},
   "outputs": [
    {
     "ename": "ValueError",
     "evalue": "invalid literal for int() with base 10: 'jpg'",
     "output_type": "error",
     "traceback": [
      "\u001b[1;31m---------------------------------------------------------------------------\u001b[0m",
      "\u001b[1;31mValueError\u001b[0m                                Traceback (most recent call last)",
      "Cell \u001b[1;32mIn[7], line 18\u001b[0m\n\u001b[0;32m     16\u001b[0m     clf\u001b[38;5;241m.\u001b[39mtrain(face,ids)\n\u001b[0;32m     17\u001b[0m     clf\u001b[38;5;241m.\u001b[39mwrite(\u001b[38;5;124m\"\u001b[39m\u001b[38;5;124mClassifier.xml\u001b[39m\u001b[38;5;124m\"\u001b[39m)\n\u001b[1;32m---> 18\u001b[0m \u001b[43mtrain_classifier\u001b[49m\u001b[43m(\u001b[49m\u001b[38;5;124;43m\"\u001b[39;49m\u001b[38;5;124;43mTraining Data\u001b[39;49m\u001b[38;5;124;43m\"\u001b[39;49m\u001b[43m)\u001b[49m    \n",
      "Cell \u001b[1;32mIn[7], line 8\u001b[0m, in \u001b[0;36mtrain_classifier\u001b[1;34m(data_directory)\u001b[0m\n\u001b[0;32m      6\u001b[0m img \u001b[38;5;241m=\u001b[39m Image\u001b[38;5;241m.\u001b[39mopen(image)\u001b[38;5;241m.\u001b[39mconvert(\u001b[38;5;124m'\u001b[39m\u001b[38;5;124mL\u001b[39m\u001b[38;5;124m'\u001b[39m);\n\u001b[0;32m      7\u001b[0m imageNp \u001b[38;5;241m=\u001b[39m np\u001b[38;5;241m.\u001b[39marray(img,\u001b[38;5;124m'\u001b[39m\u001b[38;5;124muint8\u001b[39m\u001b[38;5;124m'\u001b[39m)\n\u001b[1;32m----> 8\u001b[0m \u001b[38;5;28mid\u001b[39m \u001b[38;5;241m=\u001b[39m \u001b[38;5;28;43mint\u001b[39;49m\u001b[43m(\u001b[49m\u001b[43mos\u001b[49m\u001b[38;5;241;43m.\u001b[39;49m\u001b[43mpath\u001b[49m\u001b[38;5;241;43m.\u001b[39;49m\u001b[43msplit\u001b[49m\u001b[43m(\u001b[49m\u001b[43mimage\u001b[49m\u001b[43m)\u001b[49m\u001b[43m[\u001b[49m\u001b[38;5;241;43m1\u001b[39;49m\u001b[43m]\u001b[49m\u001b[38;5;241;43m.\u001b[39;49m\u001b[43msplit\u001b[49m\u001b[43m(\u001b[49m\u001b[38;5;124;43m\"\u001b[39;49m\u001b[38;5;124;43m.\u001b[39;49m\u001b[38;5;124;43m\"\u001b[39;49m\u001b[43m)\u001b[49m\u001b[43m[\u001b[49m\u001b[38;5;241;43m3\u001b[39;49m\u001b[43m]\u001b[49m\u001b[43m)\u001b[49m\n\u001b[0;32m     10\u001b[0m face\u001b[38;5;241m.\u001b[39mappend(imageNp)\n\u001b[0;32m     11\u001b[0m ids\u001b[38;5;241m.\u001b[39mappend(\u001b[38;5;28mid\u001b[39m)\n",
      "\u001b[1;31mValueError\u001b[0m: invalid literal for int() with base 10: 'jpg'"
     ]
    }
   ],
   "source": [
    "def train_classifier(data_directory):\n",
    "    path = [os.path.join(data_directory,f) for f in os.listdir(data_directory)]\n",
    "    face = []\n",
    "    ids = []\n",
    "    for image in path:\n",
    "        img = Image.open(image).convert('L');\n",
    "        imageNp = np.array(img,'uint8')\n",
    "        id = int(os.path.split(image)[1].split(\".\")[3])\n",
    "\n",
    "        face.append(imageNp)\n",
    "        ids.append(id)\n",
    "    ids = np.array(ids)\n",
    "\n",
    "    # Train the classifier and saving it\n",
    "    clf = cv2.face.LBPHFaceRecognizer_create()\n",
    "    clf.train(face,ids)\n",
    "    clf.write(\"Classifier.xml\")\n",
    "train_classifier(\"Training Data\")    \n",
    "\n",
    "\n",
    "\n"
   ]
  },
  {
   "cell_type": "markdown",
   "metadata": {},
   "source": [
    "# 3. Finally, the face detection and identification itself from our training data"
   ]
  },
  {
   "cell_type": "code",
   "execution_count": 2,
   "metadata": {},
   "outputs": [],
   "source": [
    "import cv2\n",
    "import numpy as np\n",
    "from PIL import Image\n",
    "import os"
   ]
  },
  {
   "cell_type": "code",
   "execution_count": 3,
   "metadata": {},
   "outputs": [],
   "source": [
    "def draw_bounds(img,face_classifier,scaleFactor,minNeighbors,color,text,clf):\n",
    "    gray_img = cv2.cvtColor(img,cv2.COLOR_BGR2GRAY)\n",
    "    feat = face_classifier.detectMultiScale(gray_img,scaleFactor,minNeighbors)\n",
    "\n",
    "    coords = []\n",
    "\n",
    "    for(x,y,w,h) in feat:\n",
    "        cv2.rectangle(img,(x,y),(x+w,y+h),color,2)\n",
    "        id,pred = clf.predict(gray_img[y:y+h,x:x+w])\n",
    "        conf = int(100*(1-pred/300))\n",
    "\n",
    "        if conf>77:\n",
    "            if id==1:\n",
    "                cv2.putText(img,\"Alan Fernandes\",(x,y-5),cv2.FONT_HERSHEY_SIMPLEX,0.8,(0,255,0),1,cv2.LINE_AA)\n",
    "            if id==2:\n",
    "                cv2.putText(img,\"Neesarg Bhuyan\",(x,y-5),cv2.FONT_HERSHEY_SIMPLEX,0.8,(255,0,0),1,cv2.LINE_AA) \n",
    "            if id==3:\n",
    "                cv2.putText(img,\"Adith Kushalappa\",(x,y-5),cv2.FONT_HERSHEY_SIMPLEX,0.8,(255,0,0),1,cv2.LINE_AA)           \n",
    "        else:\n",
    "            cv2.putText(img,\"WHO TF IS THIS NIGGA???\",(x,y-5),cv2.FONT_HERSHEY_SIMPLEX,0.8,(0,0,255),1,cv2.LINE_AA)        \n",
    "        coords =[x,y,w,h]\n",
    "    return coords\n",
    "\n",
    "def recognize(img,clf,faceCascade):\n",
    "    coords = draw_bounds(img,faceCascade,1.1,10,(255,255,255),\"Face\",clf)\n",
    "    return img\n",
    "\n",
    "faceCascade =  cv2.CascadeClassifier(\"haarcascade_frontalface_default.xml\") \n",
    "clf = cv2.face.LBPHFaceRecognizer_create()\n",
    "clf.read(\"Classifier.xml\")\n",
    "\n",
    "video_capture = cv2.VideoCapture(0)\n",
    "\n",
    "while True:\n",
    "    ret,img = video_capture.read()\n",
    "    img = recognize(img,clf,faceCascade)\n",
    "    cv2.imshow(\"Face Detection\",img)\n",
    "\n",
    "    if cv2.waitKey(1)==13:\n",
    "        break\n",
    "video_capture.release()\n",
    "cv2.destroyAllWindows()    \n",
    "\n",
    "# WORKING!!!: Crops face, converts it into greyscale and then feeds it to the classifier\n",
    "# For drawing rectangle, the real-time feed from the camera (in my case, my webcam) is fed to the cv2.imshow() function\n"
   ]
  },
  {
   "cell_type": "code",
   "execution_count": null,
   "metadata": {},
   "outputs": [],
   "source": [
    "\n",
    "def draw_bounds(img,face_classifier,scaleFactor,minNeighbors,color,text,clf):\n",
    "    gray_img = cv2.cvtColor(img,cv2.COLOR_BGR2GRAY)\n",
    "    feat = face_classifier.detectMultiScale(gray_img,scaleFactor,minNeighbors)\n",
    "\n",
    "    coords = []\n",
    "\n",
    "    for(x,y,w,h) in feat:\n",
    "        cv2.rectangle(img,(x,y),(x+w,y+h),color,2)\n",
    "        id,pred = clf.predict(gray_img[y:y+h,x:x+w])\n",
    "        conf = int(100*(1-pred/300))\n",
    "\n",
    "        if conf>77:\n",
    "            if id==1:\n",
    "                file = \"WhatsApp Image 2024-11-14 at 9.10.51 PM.jpg\"\n",
    "                img = Image.open(file)\n",
    "                img.show()\n",
    "            if id==2:\n",
    "                cv2.putText(img,\"Neesarg Bhuyan\",(x,y-5),cv2.FONT_HERSHEY_SIMPLEX,0.8,(255,0,0),1,cv2.LINE_AA)    \n",
    "        else:\n",
    "            cv2.putText(img,\"WHO TF IS THIS NIGGA???\",(x,y-5),cv2.FONT_HERSHEY_SIMPLEX,0.8,(0,0,255),1,cv2.LINE_AA)        \n",
    "        coords =[x,y,w,h]\n",
    "    return coords\n",
    "\n",
    "def recognize(img,clf,faceCascade):\n",
    "    coords = draw_bounds(img,faceCascade,1.1,10,(255,255,255),\"Face\",clf)\n",
    "    return img\n",
    "\n",
    "faceCascade =  cv2.CascadeClassifier(\"haarcascade_frontalface_default.xml\") \n",
    "clf = cv2.face.LBPHFaceRecognizer_create()\n",
    "clf.read(\"Classifier.xml\")\n",
    "\n",
    "video_capture = cv2.VideoCapture(0)\n",
    "\n",
    "while True:\n",
    "    ret,img = video_capture.read()\n",
    "    img = recognize(img,clf,faceCascade)\n",
    "    cv2.imshow(\"Face Detection\",img)\n",
    "\n",
    "    if cv2.waitKey(1)==13:\n",
    "        break\n",
    "video_capture.release()\n",
    "cv2.destroyAllWindows()    \n",
    "\n",
    "# WORKING!!!: Crops face, converts it into greyscale and then feeds it to the classifier\n",
    "# For drawing rectangle, the real-time feed from the camera (in my case, my webcam) is fed to the cv2.imshow() function\n"
   ]
  }
 ],
 "metadata": {
  "kernelspec": {
   "display_name": "Python 3",
   "language": "python",
   "name": "python3"
  },
  "language_info": {
   "codemirror_mode": {
    "name": "ipython",
    "version": 3
   },
   "file_extension": ".py",
   "mimetype": "text/x-python",
   "name": "python",
   "nbconvert_exporter": "python",
   "pygments_lexer": "ipython3",
   "version": "3.11.4"
  }
 },
 "nbformat": 4,
 "nbformat_minor": 2
}
